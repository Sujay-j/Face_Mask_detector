{
 "cells": [
  {
   "cell_type": "code",
   "execution_count": 1,
   "metadata": {},
   "outputs": [],
   "source": [
    "import numpy as np\n",
    "import pandas as pd\n",
    "import matplotlib.pyplot as plt"
   ]
  },
  {
   "cell_type": "code",
   "execution_count": 2,
   "metadata": {},
   "outputs": [],
   "source": [
    "from tensorflow.keras.preprocessing.image import ImageDataGenerator\n",
    "from tensorflow.keras.applications import MobileNetV2\n",
    "from tensorflow.keras.layers import AveragePooling2D\n",
    "from tensorflow.keras.layers import Dropout\n",
    "from tensorflow.keras.layers import Flatten,Dense,Input\n",
    "from tensorflow.keras.models import Model\n",
    "from tensorflow.keras.optimizers import Adam\n",
    "from tensorflow.keras.applications.mobilenet_v2 import preprocess_input\n",
    "from tensorflow.keras.preprocessing.image import img_to_array,load_img\n",
    "from tensorflow.keras.utils import to_categorical\n",
    "from sklearn.preprocessing import LabelBinarizer\n",
    "from sklearn.model_selection import train_test_split\n",
    "from sklearn.metrics import classification_report\n",
    "from imutils import paths\n",
    "import os"
   ]
  },
  {
   "cell_type": "code",
   "execution_count": 3,
   "metadata": {},
   "outputs": [
    {
     "data": {
      "text/plain": [
       "'C:\\\\Users\\\\Sujay J\\\\Desktop\\\\GitHUB\\\\Face Mask detector\\\\dataset'"
      ]
     },
     "execution_count": 3,
     "metadata": {},
     "output_type": "execute_result"
    }
   ],
   "source": [
    "dataset = os.getcwd()+\"\\\\dataset\"\n",
    "dataset"
   ]
  },
  {
   "cell_type": "code",
   "execution_count": 4,
   "metadata": {},
   "outputs": [],
   "source": [
    "INIT_LR = 1e-4\n",
    "EPOCHS = 20\n",
    "BS = 32"
   ]
  },
  {
   "cell_type": "code",
   "execution_count": 5,
   "metadata": {},
   "outputs": [],
   "source": [
    "imagespaths = list(paths.list_images(dataset))"
   ]
  },
  {
   "cell_type": "code",
   "execution_count": 6,
   "metadata": {},
   "outputs": [
    {
     "data": {
      "text/plain": [
       "'C:\\\\Users\\\\Sujay J\\\\Desktop\\\\GitHUB\\\\Face Mask detector\\\\dataset\\\\without_mask\\\\1.jpg'"
      ]
     },
     "execution_count": 6,
     "metadata": {},
     "output_type": "execute_result"
    }
   ],
   "source": [
    "imagespaths[1]"
   ]
  },
  {
   "cell_type": "code",
   "execution_count": 7,
   "metadata": {},
   "outputs": [],
   "source": [
    "data=[]\n",
    "labels =[]"
   ]
  },
  {
   "cell_type": "code",
   "execution_count": 8,
   "metadata": {},
   "outputs": [],
   "source": [
    "for imagePath in imagespaths:\n",
    "    label = imagePath.split(os.path.sep)[-2]\n",
    "    image = load_img(imagePath,target_size=(224,224))\n",
    "    image = img_to_array(image)\n",
    "    image = preprocess_input(image)\n",
    "    \n",
    "    data.append(image)\n",
    "    labels.append(label)\n",
    "    "
   ]
  },
  {
   "cell_type": "code",
   "execution_count": 9,
   "metadata": {},
   "outputs": [],
   "source": [
    "data = np.array(data,dtype =\"float32\")\n",
    "labels = np.array(labels)"
   ]
  },
  {
   "cell_type": "code",
   "execution_count": 10,
   "metadata": {},
   "outputs": [
    {
     "data": {
      "text/plain": [
       "(1376, 224, 224, 3)"
      ]
     },
     "execution_count": 10,
     "metadata": {},
     "output_type": "execute_result"
    }
   ],
   "source": [
    "data.shape"
   ]
  },
  {
   "cell_type": "code",
   "execution_count": 11,
   "metadata": {},
   "outputs": [],
   "source": [
    "lb=LabelBinarizer()\n",
    "labels = lb.fit_transform(labels)\n",
    "labels = to_categorical(labels)"
   ]
  },
  {
   "cell_type": "code",
   "execution_count": 12,
   "metadata": {},
   "outputs": [
    {
     "data": {
      "text/plain": [
       "array([[0., 1.],\n",
       "       [0., 1.],\n",
       "       [0., 1.],\n",
       "       ...,\n",
       "       [1., 0.],\n",
       "       [1., 0.],\n",
       "       [1., 0.]], dtype=float32)"
      ]
     },
     "execution_count": 12,
     "metadata": {},
     "output_type": "execute_result"
    }
   ],
   "source": [
    "labels"
   ]
  },
  {
   "cell_type": "code",
   "execution_count": 13,
   "metadata": {},
   "outputs": [],
   "source": [
    "(trainX, testX, trainY, testY) = train_test_split(data, labels,\n",
    "    test_size=0.20, stratify=labels, random_state=42)"
   ]
  },
  {
   "cell_type": "code",
   "execution_count": 14,
   "metadata": {},
   "outputs": [],
   "source": [
    "aug = ImageDataGenerator(rotation_range=20,zoom_range=0.15,\n",
    "                        width_shift_range=0.2,height_shift_range=0.2,\n",
    "                        shear_range=0.15,horizontal_flip=True,fill_mode=\"nearest\")"
   ]
  },
  {
   "cell_type": "code",
   "execution_count": 15,
   "metadata": {},
   "outputs": [
    {
     "name": "stderr",
     "output_type": "stream",
     "text": [
      "C:\\Users\\Sujay J\\Anaconda3\\lib\\site-packages\\keras_applications\\mobilenet_v2.py:294: UserWarning: `input_shape` is undefined or non-square, or `rows` is not in [96, 128, 160, 192, 224]. Weights for input shape (224, 224) will be loaded as the default.\n",
      "  warnings.warn('`input_shape` is undefined or non-square, '\n"
     ]
    },
    {
     "name": "stdout",
     "output_type": "stream",
     "text": [
      "Downloading data from https://github.com/JonathanCMitchell/mobilenet_v2_keras/releases/download/v1.1/mobilenet_v2_weights_tf_dim_ordering_tf_kernels_1.0_224_no_top.h5\n",
      "9412608/9406464 [==============================] - 11s 1us/step\n"
     ]
    }
   ],
   "source": [
    "baseModel = MobileNetV2(weights=\"imagenet\", include_top=False,\n",
    "\tinput_tensor=Input(shape=(224, 224, 3)))"
   ]
  },
  {
   "cell_type": "code",
   "execution_count": 16,
   "metadata": {},
   "outputs": [],
   "source": [
    "headModel = baseModel.output\n",
    "headModel = AveragePooling2D(pool_size=(7,7))(headModel)\n",
    "headModel = Flatten(name=\"flatten\")(headModel)\n",
    "headModel = Dense(128,activation=\"relu\")(headModel)\n",
    "headModel = Dropout(0.5)(headModel)\n",
    "headModel = Dense(2,activation=\"softmax\")(headModel)\n"
   ]
  },
  {
   "cell_type": "code",
   "execution_count": 17,
   "metadata": {},
   "outputs": [],
   "source": [
    "model= Model(inputs=baseModel.input,outputs=headModel)"
   ]
  },
  {
   "cell_type": "code",
   "execution_count": 18,
   "metadata": {},
   "outputs": [],
   "source": [
    "for layer in baseModel.layers:\n",
    "    layer.trainable = False"
   ]
  },
  {
   "cell_type": "code",
   "execution_count": 19,
   "metadata": {},
   "outputs": [],
   "source": [
    "opt = Adam(lr= INIT_LR,decay = INIT_LR/EPOCHS)\n",
    "model.compile(loss=\"binary_crossentropy\",optimizer = opt,metrics = [\"acc\"])"
   ]
  },
  {
   "cell_type": "code",
   "execution_count": 20,
   "metadata": {},
   "outputs": [
    {
     "name": "stdout",
     "output_type": "stream",
     "text": [
      "Train for 34 steps, validate on 276 samples\n",
      "Epoch 1/20\n",
      "34/34 [==============================] - 103s 3s/step - loss: 0.7340 - acc: 0.6049 - val_loss: 0.3317 - val_acc: 0.9102\n",
      "Epoch 2/20\n",
      "34/34 [==============================] - 91s 3s/step - loss: 0.4303 - acc: 0.7987 - val_loss: 0.1996 - val_acc: 0.9570\n",
      "Epoch 3/20\n",
      "34/34 [==============================] - 87s 3s/step - loss: 0.3137 - acc: 0.8661 - val_loss: 0.1399 - val_acc: 0.9727\n",
      "Epoch 4/20\n",
      "34/34 [==============================] - 87s 3s/step - loss: 0.2407 - acc: 0.9110 - val_loss: 0.1177 - val_acc: 0.9766\n",
      "Epoch 5/20\n",
      "34/34 [==============================] - 87s 3s/step - loss: 0.1945 - acc: 0.9223 - val_loss: 0.0858 - val_acc: 0.9688\n",
      "Epoch 6/20\n",
      "34/34 [==============================] - 90s 3s/step - loss: 0.1739 - acc: 0.9354 - val_loss: 0.0728 - val_acc: 0.9688\n",
      "Epoch 7/20\n",
      "34/34 [==============================] - 88s 3s/step - loss: 0.1608 - acc: 0.9391 - val_loss: 0.0681 - val_acc: 0.9805\n",
      "Epoch 8/20\n",
      "34/34 [==============================] - 86s 3s/step - loss: 0.1296 - acc: 0.9588 - val_loss: 0.0762 - val_acc: 0.9805\n",
      "Epoch 9/20\n",
      "34/34 [==============================] - 86s 3s/step - loss: 0.1198 - acc: 0.9541 - val_loss: 0.0832 - val_acc: 0.9766\n",
      "Epoch 10/20\n",
      "34/34 [==============================] - 87s 3s/step - loss: 0.1295 - acc: 0.9513 - val_loss: 0.0561 - val_acc: 0.9844\n",
      "Epoch 11/20\n",
      "34/34 [==============================] - 86s 3s/step - loss: 0.1064 - acc: 0.9625 - val_loss: 0.0601 - val_acc: 0.9844\n",
      "Epoch 12/20\n",
      "34/34 [==============================] - 87s 3s/step - loss: 0.1120 - acc: 0.9663 - val_loss: 0.0504 - val_acc: 0.9844\n",
      "Epoch 13/20\n",
      "34/34 [==============================] - 86s 3s/step - loss: 0.1129 - acc: 0.9579 - val_loss: 0.0552 - val_acc: 0.9844\n",
      "Epoch 14/20\n",
      "34/34 [==============================] - 86s 3s/step - loss: 0.1046 - acc: 0.9541 - val_loss: 0.0529 - val_acc: 0.9844\n",
      "Epoch 15/20\n",
      "34/34 [==============================] - 88s 3s/step - loss: 0.0976 - acc: 0.9588 - val_loss: 0.0661 - val_acc: 0.9805\n",
      "Epoch 16/20\n",
      "34/34 [==============================] - 87s 3s/step - loss: 0.0896 - acc: 0.9616 - val_loss: 0.0463 - val_acc: 0.9844\n",
      "Epoch 17/20\n",
      "34/34 [==============================] - 87s 3s/step - loss: 0.0812 - acc: 0.9700 - val_loss: 0.0423 - val_acc: 0.9844\n",
      "Epoch 18/20\n",
      "34/34 [==============================] - 86s 3s/step - loss: 0.0838 - acc: 0.9663 - val_loss: 0.0418 - val_acc: 0.9844\n",
      "Epoch 19/20\n",
      "34/34 [==============================] - 88s 3s/step - loss: 0.0807 - acc: 0.9728 - val_loss: 0.0756 - val_acc: 0.9727\n",
      "Epoch 20/20\n",
      "34/34 [==============================] - 86s 3s/step - loss: 0.0849 - acc: 0.9654 - val_loss: 0.0387 - val_acc: 0.9883\n"
     ]
    }
   ],
   "source": [
    "H = model.fit(aug.flow(trainX,trainY,batch_size=BS),\n",
    "              steps_per_epoch = len(trainX)//BS,\n",
    "             validation_data = (testX,testY),\n",
    "             validation_steps = len(testX)//BS,\n",
    "             epochs = EPOCHS)"
   ]
  },
  {
   "cell_type": "code",
   "execution_count": 21,
   "metadata": {},
   "outputs": [],
   "source": [
    "predIdxs = model.predict(testX, batch_size=BS)"
   ]
  },
  {
   "cell_type": "code",
   "execution_count": 22,
   "metadata": {},
   "outputs": [],
   "source": [
    "predIdxs = np.argmax(predIdxs, axis=1)"
   ]
  },
  {
   "cell_type": "code",
   "execution_count": 23,
   "metadata": {},
   "outputs": [
    {
     "name": "stdout",
     "output_type": "stream",
     "text": [
      "              precision    recall  f1-score   support\n",
      "\n",
      "   with_mask       0.98      1.00      0.99       138\n",
      "without_mask       1.00      0.98      0.99       138\n",
      "\n",
      "    accuracy                           0.99       276\n",
      "   macro avg       0.99      0.99      0.99       276\n",
      "weighted avg       0.99      0.99      0.99       276\n",
      "\n"
     ]
    }
   ],
   "source": [
    "print(classification_report(testY.argmax(axis=1), predIdxs,\n",
    "    target_names=lb.classes_))"
   ]
  },
  {
   "cell_type": "code",
   "execution_count": 24,
   "metadata": {},
   "outputs": [],
   "source": [
    "model.save(\"model\", save_format=\"h5\")"
   ]
  },
  {
   "cell_type": "code",
   "execution_count": 27,
   "metadata": {},
   "outputs": [
    {
     "data": {
      "image/png": "[encoded data removed]",
      "text/plain": [
       "<Figure size 432x288 with 1 Axes>"
      ]
     },
     "metadata": {},
     "output_type": "display_data"
    }
   ],
   "source": [
    "N = EPOCHS\n",
    "plt.style.use(\"ggplot\")\n",
    "plt.figure()\n",
    "plt.plot(np.arange(0,N),H.history[\"loss\"],label = \"training_loss\")\n",
    "plt.plot(np.arange(0,N),H.history[\"val_loss\"],label=\"val_loss\")\n",
    "plt.plot(np.arange(0,N),H.history[\"acc\"],label=\"train_acc\")\n",
    "plt.plot(np.arange(0,N),H.history[\"val_acc\"],label = \"val_accuracy\")\n",
    "plt.title(\"Training Loss and Accuracy\")\n",
    "plt.xlabel(\"Epoch #\")\n",
    "plt.ylabel(\"Loss/Accuracy\")\n",
    "plt.legend(loc=\"lower left\")\n",
    "plt.savefig(\"plot\")"
   ]
  },
  {
   "cell_type": "code",
   "execution_count": null,
   "metadata": {},
   "outputs": [],
   "source": []
  }
 ],
 "metadata": {
  "kernelspec": {
   "display_name": "Python 3",
   "language": "python",
   "name": "python3"
  },
  "language_info": {
   "codemirror_mode": {
    "name": "ipython",
    "version": 3
   },
   "file_extension": ".py",
   "mimetype": "text/x-python",
   "name": "python",
   "nbconvert_exporter": "python",
   "pygments_lexer": "ipython3",
   "version": "3.7.4"
  }
 },
 "nbformat": 4,
 "nbformat_minor": 4
}
